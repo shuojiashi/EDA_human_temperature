{
 "cells": [
  {
   "cell_type": "markdown",
   "metadata": {},
   "source": [
    "# What is the True Normal Human Body Temperature? \n"
   ]
  },
  {
   "cell_type": "code",
   "execution_count": 3,
   "metadata": {
    "collapsed": true
   },
   "outputs": [],
   "source": [
    "import pandas as pd\n",
    "import numpy as np\n",
    "df = pd.read_csv('normtemp.csv', delim_whitespace=True, names=['Temperature','Gender','HearRate'])"
   ]
  },
  {
   "cell_type": "code",
   "execution_count": 4,
   "metadata": {
    "collapsed": true
   },
   "outputs": [],
   "source": [
    "import matplotlib.pyplot as plt\n",
    "import seaborn as sns\n",
    "sns.set()\n",
    "%matplotlib inline"
   ]
  },
  {
   "cell_type": "code",
   "execution_count": 5,
   "metadata": {},
   "outputs": [
    {
     "data": {
      "text/html": [
       "<div>\n",
       "<style>\n",
       "    .dataframe thead tr:only-child th {\n",
       "        text-align: right;\n",
       "    }\n",
       "\n",
       "    .dataframe thead th {\n",
       "        text-align: left;\n",
       "    }\n",
       "\n",
       "    .dataframe tbody tr th {\n",
       "        vertical-align: top;\n",
       "    }\n",
       "</style>\n",
       "<table border=\"1\" class=\"dataframe\">\n",
       "  <thead>\n",
       "    <tr style=\"text-align: right;\">\n",
       "      <th></th>\n",
       "      <th>Temperature</th>\n",
       "      <th>Gender</th>\n",
       "      <th>HearRate</th>\n",
       "    </tr>\n",
       "  </thead>\n",
       "  <tbody>\n",
       "    <tr>\n",
       "      <th>0</th>\n",
       "      <td>96.3</td>\n",
       "      <td>1</td>\n",
       "      <td>70</td>\n",
       "    </tr>\n",
       "    <tr>\n",
       "      <th>1</th>\n",
       "      <td>96.7</td>\n",
       "      <td>1</td>\n",
       "      <td>71</td>\n",
       "    </tr>\n",
       "    <tr>\n",
       "      <th>2</th>\n",
       "      <td>96.9</td>\n",
       "      <td>1</td>\n",
       "      <td>74</td>\n",
       "    </tr>\n",
       "    <tr>\n",
       "      <th>3</th>\n",
       "      <td>97.0</td>\n",
       "      <td>1</td>\n",
       "      <td>80</td>\n",
       "    </tr>\n",
       "    <tr>\n",
       "      <th>4</th>\n",
       "      <td>97.1</td>\n",
       "      <td>1</td>\n",
       "      <td>73</td>\n",
       "    </tr>\n",
       "  </tbody>\n",
       "</table>\n",
       "</div>"
      ],
      "text/plain": [
       "   Temperature  Gender  HearRate\n",
       "0         96.3       1        70\n",
       "1         96.7       1        71\n",
       "2         96.9       1        74\n",
       "3         97.0       1        80\n",
       "4         97.1       1        73"
      ]
     },
     "execution_count": 5,
     "metadata": {},
     "output_type": "execute_result"
    }
   ],
   "source": [
    "df.head()"
   ]
  },
  {
   "cell_type": "code",
   "execution_count": 6,
   "metadata": {},
   "outputs": [],
   "source": [
    "temp = df['Temperature']\n",
    "heart_r = df['HearRate']"
   ]
  },
  {
   "cell_type": "markdown",
   "metadata": {},
   "source": [
    "## Is the distribution of body temperature normal?\n",
    "## Is the sample size large? Are the observations independent?"
   ]
  },
  {
   "cell_type": "markdown",
   "metadata": {},
   "source": [
    "Central Limit Thereom tells us:\n",
    "Normal distribution will be a good model for the sampling distribution of the sample mean under certain conditions: \n",
    "1. Parent population is symmetric\n",
    "2. Sample size is large enough (usually n>30). "
   ]
  },
  {
   "cell_type": "code",
   "execution_count": 8,
   "metadata": {},
   "outputs": [
    {
     "name": "stdout",
     "output_type": "stream",
     "text": [
      "Temperature mean is: 98.24923076923076\n",
      "Temperature standard deviation is: 0.730357778905038\n",
      "Size of the sample is: 130\n"
     ]
    }
   ],
   "source": [
    "temp_mean = np.mean(temp)\n",
    "temp_std = np.std(temp)\n",
    "temp_len = len(temp)\n",
    "\n",
    "print('Temperature mean is:', temp_mean)\n",
    "print('Temperature standard deviation is:', temp_std)\n",
    "print('Size of the sample is:', temp_len)"
   ]
  },
  {
   "cell_type": "markdown",
   "metadata": {},
   "source": [
    "The above result shows the sample size is indeed larger than 30. \n",
    "\n",
    "### Sample size is large\n",
    "\n",
    "So the central limit thereom stands. The sample mean for the body temperature CAN be treated as normal distribution. \n",
    "\n",
    "Next I generated a random normal distribution use the same mean and standard deviation from the sample temperature. The histogram of the sample temperature and normal temperature are plotted below:"
   ]
  },
  {
   "cell_type": "code",
   "execution_count": 21,
   "metadata": {},
   "outputs": [
    {
     "data": {
      "image/png": "[encoded data removed]",
      "text/plain": [
       "<matplotlib.figure.Figure at 0x11ea92470>"
      ]
     },
     "metadata": {},
     "output_type": "display_data"
    }
   ],
   "source": [
    "#Build a 1D normal array with the same temperature mean and standard deviation\n",
    "temp_norm = np.random.normal(temp_mean, temp_std, 130)\n",
    "\n",
    "#Visualize the sample and normal distribution\n",
    "_ = plt.hist(temp, bins=15, normed=True)\n",
    "_ = plt.hist(temp_norm,bins=15, color='red', normed=True, alpha=0.2)\n",
    "_ = plt.xlabel('Temperature (F)')\n",
    "_ = plt.ylabel('Normalized frequency')\n",
    "_ = plt.legend(['Sample T', 'Normal Distributed T'])"
   ]
  },
  {
   "cell_type": "code",
   "execution_count": 48,
   "metadata": {},
   "outputs": [
    {
     "name": "stdout",
     "output_type": "stream",
     "text": [
      "(96.05815743251566, 100.44030410594587)\n"
     ]
    }
   ],
   "source": [
    "#Range of temperature with mean +- 3*standard_deviation\n",
    "normal_range = (temp_mean-3*temp_std), (temp_mean+3*temp_std)\n",
    "print(normal_range)"
   ]
  },
  {
   "cell_type": "markdown",
   "metadata": {},
   "source": [
    "The visulization shows the body temperature distribution seems very close to the normal distribution. It has a signature bell shape. A close look to the lower and upper limit of the data shows almost all the data points are between mean+-3*standard_deviation, which is another trait of normal distribution. \n",
    "\n",
    "In the content below, I explore how identical the sample distribution and the normal distribution is use null hypothesis and bootstraping. ** H0: temp and temp_norm are identical. **"
   ]
  },
  {
   "cell_type": "code",
   "execution_count": 14,
   "metadata": {},
   "outputs": [
    {
     "name": "stdout",
     "output_type": "stream",
     "text": [
      "p-value = 0.5623\n"
     ]
    }
   ],
   "source": [
    "#Are they identical?\n",
    "#Define diff_of_means\n",
    "def diff_of_means(data_1, data_2):\n",
    "    \"\"\"Difference in means of two arrays.\"\"\"\n",
    "\n",
    "    # The difference of means of data_1, data_2: diff\n",
    "    diff = np.mean(data_1)-np.mean(data_2)\n",
    "\n",
    "    return diff\n",
    "\n",
    "\n",
    "# Compute difference of mean impact force from experiment: empirical_diff_means\n",
    "empirical_diff_means = diff_of_means(temp,temp_norm)\n",
    "\n",
    "# Concatenate forces: forces_concat\n",
    "forces_concat = np.concatenate((temp, temp_norm))\n",
    "\n",
    "# Initialize bootstrap replicates: bs_replicates\n",
    "bs_replicates = np.empty(10000)\n",
    "\n",
    "for i in range(10000):\n",
    "    # Generate bootstrap sample\n",
    "    bs_sample = np.random.choice(forces_concat, size=len(forces_concat))\n",
    "    \n",
    "    # Compute replicate\n",
    "    bs_replicates[i] = diff_of_means(bs_sample[:len(temp)],\n",
    "                                     bs_sample[len(temp):])\n",
    "\n",
    "# Compute and print p-value: p\n",
    "p = np.sum(bs_replicates >= empirical_diff_means) / 10000\n",
    "print('p-value =', p)\n"
   ]
  },
  {
   "cell_type": "markdown",
   "metadata": {},
   "source": [
    "The large p-value indicates that the distribution of sample temperature being normal distribution is highly possible.\n",
    "\n",
    "### Summarize  above observation: the distribution of the body temperature is normal. "
   ]
  },
  {
   "cell_type": "code",
   "execution_count": 16,
   "metadata": {
    "collapsed": true
   },
   "outputs": [],
   "source": [
    "# Define ecdf function\n",
    "def ecdf(data):\n",
    "    \"\"\"Compute ECDF for a one-dimensional array of measurements.\"\"\"\n",
    "\n",
    "    # Number of data points: n\n",
    "    n = len(data)\n",
    "\n",
    "    # x-data for the ECDF: x\n",
    "    x = np.sort(data)\n",
    "\n",
    "    # y-data for the ECDF: y\n",
    "    y = np.arange(1, n+1) / n\n",
    "\n",
    "    return x, y"
   ]
  },
  {
   "cell_type": "code",
   "execution_count": 20,
   "metadata": {},
   "outputs": [
    {
     "data": {
      "image/png": "[encoded data removed]",
      "text/plain": [
       "<matplotlib.figure.Figure at 0x11e9c3630>"
      ]
     },
     "metadata": {},
     "output_type": "display_data"
    }
   ],
   "source": [
    "for i in range(50):\n",
    "    # Generate bootstrap sample: bs_sample\n",
    "    bs_sample = np.random.choice(temp, size=len(temp))\n",
    "\n",
    "    # Compute and plot ECDF from bootstrap sample\n",
    "    x, y = ecdf(bs_sample)\n",
    "    _ = plt.plot(x, y, marker='.', linestyle='none',\n",
    "                 color='gray', alpha=0.1)\n",
    "\n",
    "# Compute and plot ECDF from original data\n",
    "x, y = ecdf(temp)\n",
    "_ = plt.plot(x, y, marker='.')\n",
    "\n",
    "# Make margins and label axes\n",
    "plt.margins(0.02)\n",
    "_ = plt.xlabel('Temperature (F)')\n",
    "_ = plt.ylabel('ECDF')\n",
    "\n",
    "# Show the plot\n",
    "plt.show()\n"
   ]
  },
  {
   "cell_type": "code",
   "execution_count": 19,
   "metadata": {
    "collapsed": true
   },
   "outputs": [],
   "source": [
    "def bootstrap_replicate_1d(data, func):\n",
    "    return func(np.random.choice(data, size=len(data)))\n",
    "\n",
    "#generate bootstrap replicates\n",
    "def draw_bs_reps(data, func, size=1):\n",
    "    #\"\"\"Draw bootstrap replicates.\"\"\"\n",
    "\n",
    "    # Initialize array of replicates: bs_replicates\n",
    "    bs_replicates = np.empty(size)\n",
    "\n",
    "    # Generate replicates\n",
    "    for i in range(size):\n",
    "        bs_replicates[i] = bootstrap_replicate_1d(data, func)\n",
    "\n",
    "    return bs_replicates\n"
   ]
  },
  {
   "cell_type": "markdown",
   "metadata": {},
   "source": [
    "## Is the true population mean really 98.6 degrees F?\n",
    "\n",
    "The above calculation already gave the sample mean of the temperature: 98.25F. It is quite different from the typical normal temperature: 98.6F. Could this be from the random choice of the sample? Or is 98.6F not statistically probable to be the true population mean? Below is a bootstrap hypothesis test on the sample temperature. \n",
    "\n",
    "**The null hypothesis here is the true population mean could be 98.6F. **"
   ]
  },
  {
   "cell_type": "code",
   "execution_count": 22,
   "metadata": {},
   "outputs": [
    {
     "name": "stdout",
     "output_type": "stream",
     "text": [
      "0.0640566146952\n",
      "0.0640863244587\n",
      "[ 98.08461154  98.41692692]\n",
      "P value: 0.0\n"
     ]
    },
    {
     "data": {
      "image/png": "[encoded data removed]",
      "text/plain": [
       "<matplotlib.figure.Figure at 0x11e7d1780>"
      ]
     },
     "metadata": {},
     "output_type": "display_data"
    }
   ],
   "source": [
    "# Take 10,000 bootstrap replicates of the mean: bs_replicates\n",
    "bs_replicates = draw_bs_reps(temp, np.mean, 10000)\n",
    "\n",
    "# Compute and print SEM\n",
    "sem = np.std(temp) / np.sqrt(len(temp))\n",
    "print(sem)\n",
    "\n",
    "# Compute and print standard deviation of bootstrap replicates\n",
    "bs_std = np.std(bs_replicates)\n",
    "print(bs_std)\n",
    "\n",
    "# Calculate the 95% confidence interval of the temperature\n",
    "bs_ci = np.percentile(bs_replicates, [0.5,99.5])\n",
    "print(bs_ci)\n",
    "\n",
    "# Calculate the possiblity of a temperature larger than 98.6\n",
    "p = np.sum(bs_replicates >= 98.6) /len(bs_replicates)\n",
    "print('P value:', p)\n",
    "\n",
    "# Make a histogram of the results\n",
    "_ = plt.hist(bs_replicates, bins=50, normed=True)\n",
    "_ = plt.xlabel('Temperature (C)')\n",
    "_ = plt.ylabel('PDF')\n",
    "\n",
    "# Show the plot\n",
    "plt.show()"
   ]
  },
  {
   "cell_type": "markdown",
   "metadata": {},
   "source": [
    "The p value is very small. And the 99% confidence interval for the true population mean is between 98.1F and 98.4F. It does not include the 98.6F. \n",
    "\n",
    "Next the one sample hypothesis is used to test the same hypothesis. Note here I chose one sample because we are comparing the sample data to a single temperature value. "
   ]
  },
  {
   "cell_type": "code",
   "execution_count": 24,
   "metadata": {},
   "outputs": [
    {
     "name": "stdout",
     "output_type": "stream",
     "text": [
      "p =  0.0\n"
     ]
    }
   ],
   "source": [
    "# Make an array of translated temperatures\n",
    "temp_b = temp-np.mean(temp)+98.6\n",
    "\n",
    "# Take bootstrap replicates of translated temperatures: bs_replicates\n",
    "bs_replicates = draw_bs_reps(temp_b, np.mean, 10000)\n",
    "\n",
    "# Compute fraction of replicates that are less than the observed temperature: p\n",
    "p = np.sum(bs_replicates <= np.mean(temp)) / 10000\n",
    "\n",
    "# Print the p-value\n",
    "print('p = ', p)\n"
   ]
  },
  {
   "cell_type": "markdown",
   "metadata": {},
   "source": [
    "This gives that the p value from one sample test is very small. 98.6F is unlikely to be the true mean of the population body temperature. \n",
    "\n",
    "The problem can also be examined by calculating a t-statistic using the standard error of the mean. Note t-statistic is being chosen here since the sample size is not too large.\n",
    "\n",
    "From the calculation above, we know the sample standard deviation is 0.73, and the standard error of the mean (sem) is .064. Thus the calculated t (using the sample mean of 98.25) is 5.45. It gives the p value < 0.0005. It again means the null hypothesis is invalid. \n",
    "\n",
    "### All the above hypothesis tests conclude the true population mean is very unlikely 98.6F"
   ]
  },
  {
   "cell_type": "markdown",
   "metadata": {},
   "source": [
    "## Draw a small sample of size 10 from the data and repeat both frequentist tests.\n",
    "\n",
    "Which one is the correct one to use?\n",
    "What do you notice? What does this tell you about the difference in application of the t and z test statistic?"
   ]
  },
  {
   "cell_type": "code",
   "execution_count": 58,
   "metadata": {},
   "outputs": [
    {
     "name": "stdout",
     "output_type": "stream",
     "text": [
      "0.0640566146952\n",
      "0.194753690594\n",
      "[ 98.0427   98.72785]\n",
      "P value: 0.1\n"
     ]
    },
    {
     "data": {
      "image/png": "[encoded data removed]",
      "text/plain": [
       "<matplotlib.figure.Figure at 0x11f90c198>"
      ]
     },
     "metadata": {},
     "output_type": "display_data"
    }
   ],
   "source": [
    "def bootstrap_replicate_10(data, func):\n",
    "    return func(np.random.choice(data, size=10))\n",
    "\n",
    "#generate bootstrap replicates\n",
    "def draw_bs_reps_10(data, func, size=1):\n",
    "    #\"\"\"Draw bootstrap replicates.\"\"\"\n",
    "\n",
    "    # Initialize array of replicates: bs_replicates\n",
    "    bs_replicates = np.empty(size)\n",
    "\n",
    "    # Generate replicates\n",
    "    for i in range(size):\n",
    "        bs_replicates[i] = bootstrap_replicate_10(data, func)\n",
    "\n",
    "    return bs_replicates\n",
    "\n",
    "\n",
    "\n",
    "# Take 10 bootstrap replicates of the mean: bs_replicates\n",
    "bs_replicates = draw_bs_reps_10(temp, np.mean, 10)\n",
    "\n",
    "# Compute and print SEM\n",
    "sem = np.std(temp) / np.sqrt(len(temp))\n",
    "print(sem)\n",
    "\n",
    "# Compute and print standard deviation of bootstrap replicates\n",
    "bs_std = np.std(bs_replicates)\n",
    "print(bs_std)\n",
    "\n",
    "# Calculate the 95% confidence interval of the temperature\n",
    "bs_ci = np.percentile(bs_replicates, [0.5,99.5])\n",
    "print(bs_ci)\n",
    "\n",
    "# Calculate the possiblity of a temperature larger than 98.6\n",
    "p = np.sum(bs_replicates >= 98.6) /len(bs_replicates)\n",
    "print('P value:', p)\n",
    "\n",
    "# Make a histogram of the results\n",
    "_ = plt.hist(bs_replicates, bins=10, normed=True)\n",
    "_ = plt.xlabel('Temperature (C)')\n",
    "_ = plt.ylabel('PDF')\n",
    "\n",
    "# Show the plot\n",
    "plt.show()"
   ]
  },
  {
   "cell_type": "code",
   "execution_count": 59,
   "metadata": {},
   "outputs": [
    {
     "name": "stdout",
     "output_type": "stream",
     "text": [
      "p =  0.0\n"
     ]
    }
   ],
   "source": [
    "# Make an array of translated temperatures\n",
    "temp_b = temp-np.mean(temp)+98.6\n",
    "\n",
    "# Take bootstrap replicates of translated temperatures: bs_replicates\n",
    "bs_replicates = draw_bs_reps_10(temp_b, np.mean, 10)\n",
    "\n",
    "# Compute fraction of replicates that are less than the observed temperature: p\n",
    "p = np.sum(bs_replicates <= np.mean(temp)) / 10\n",
    "\n",
    "# Print the p-value\n",
    "print('p = ', p)\n",
    "\n"
   ]
  },
  {
   "cell_type": "markdown",
   "metadata": {},
   "source": [
    "The p value increased for the boostrap approach. It stayed small for the one sample frequentist test. The frequestist test should be chose in this case. For small sampling size, t-test needs to be used."
   ]
  },
  {
   "cell_type": "markdown",
   "metadata": {},
   "source": [
    "## At what temperature should we consider someone's temperature to be \"abnormal\"?\n",
    "As in the previous example, try calculating everything using the boostrap approach, as well as the frequentist approach.\n",
    "Start by computing the margin of error and confidence interval. When calculating the confidence interval, keep in mind that you should use the appropriate formula for one draw, and not N draws."
   ]
  },
  {
   "cell_type": "code",
   "execution_count": 70,
   "metadata": {},
   "outputs": [
    {
     "name": "stdout",
     "output_type": "stream",
     "text": [
      "The normal temperature with a 95% confidence interval is: 96.772237 to 99.57678875\n"
     ]
    }
   ],
   "source": [
    "#bootsraping method for normal temperature range with a 95% confidence interval\n",
    "def bootstrap_replicate_ci(data, penc, size=1):\n",
    "    \n",
    "    bs_replicates_start = np.empty(size)\n",
    "    bs_replicates_end = np.empty(size)\n",
    "    start = (100-penc)/2\n",
    "    end = penc+(100-penc)/2\n",
    "    \n",
    "    for i in range(size):\n",
    "        bs_data = np.random.choice(data, size=len(data))\n",
    "        bs_replicates_start[i], bs_replicates_end[i] = np.percentile(bs_data, [start,end])\n",
    "    \n",
    "    return bs_replicates_start, bs_replicates_end\n",
    "# Take 10,000 bootstrap replicates of the mean: bs_replicates\n",
    "\n",
    "bs_replicates_start, bs_replicates_end = bootstrap_replicate_ci(temp, 95, 10000)\n",
    "\n",
    "print('The normal temperature with a 95% confidence interval is:', np.mean(bs_replicates_start), 'to', np.mean(bs_replicates_end))"
   ]
  },
  {
   "cell_type": "code",
   "execution_count": 80,
   "metadata": {},
   "outputs": [
    {
     "name": "stdout",
     "output_type": "stream",
     "text": [
      "The normal temperature with a 95% confidence interval is: 96.80312236699879 to 99.69533917146273\n"
     ]
    }
   ],
   "source": [
    "#Frequentist test:\n",
    "#From the t-table: 95% confidence interval ==> t=1.98\n",
    "t = 1.98\n",
    "start_t = temp_mean - t * temp_std\n",
    "end_t = temp_mean + t*temp_std\n",
    "print('The normal temperature with a 95% confidence interval is:', start_t, 'to', end_t)"
   ]
  },
  {
   "cell_type": "markdown",
   "metadata": {},
   "source": [
    "The results above are very close to each other: \n",
    "### The temperature could be considered normal in the range of 96.8 and 99.7F. "
   ]
  },
  {
   "cell_type": "markdown",
   "metadata": {},
   "source": [
    "## Is there a significant difference between males and females in normal temperature?"
   ]
  },
  {
   "cell_type": "code",
   "execution_count": 41,
   "metadata": {
    "collapsed": true
   },
   "outputs": [],
   "source": [
    "temp_f = df[df['Gender']==2]['Temperature']"
   ]
  },
  {
   "cell_type": "code",
   "execution_count": 42,
   "metadata": {
    "collapsed": true
   },
   "outputs": [],
   "source": [
    "temp_m = df[df['Gender']==1]['Temperature']"
   ]
  },
  {
   "cell_type": "code",
   "execution_count": 55,
   "metadata": {},
   "outputs": [
    {
     "data": {
      "image/png": "[encoded data removed]",
      "text/plain": [
       "<matplotlib.figure.Figure at 0x11f90ccf8>"
      ]
     },
     "metadata": {},
     "output_type": "display_data"
    }
   ],
   "source": [
    "x_f, y_f =ecdf(temp_f)\n",
    "x_m, y_m =ecdf(temp_m)\n",
    "\n",
    "_ = plt.plot(x_f, y_f, marker='.', linestyle='none', color='red')\n",
    "_ = plt.plot(x_m, y_m, marker='.', linestyle='none', color='blue')\n",
    "_ = plt.xlabel('Temperature (C)')\n",
    "_ = plt.ylabel('ECDF')\n",
    "_ = plt.legend(['female','male'])"
   ]
  },
  {
   "cell_type": "markdown",
   "metadata": {},
   "source": [
    "The ecdf plot visually shows the distributions of the body temperature of females and males. We can clearly see a difference. Next I choose to use the permutation test of the two sample means to compare the two groups. \n",
    "\n",
    "**The null hypothesis: females and males have the same normal body temperature.**"
   ]
  },
  {
   "cell_type": "code",
   "execution_count": 51,
   "metadata": {
    "collapsed": true
   },
   "outputs": [],
   "source": [
    "def permutation_sample(data1, data2):\n",
    "    \"\"\"Generate a permutation sample from two data sets.\"\"\"\n",
    "\n",
    "    # Concatenate the data sets: data\n",
    "    data = np.concatenate((data1,data2))\n",
    "\n",
    "    # Permute the concatenated array: permuted_data\n",
    "    permuted_data = np.random.permutation(data)\n",
    "\n",
    "    # Split the permuted array into two: perm_sample_1, perm_sample_2\n",
    "    perm_sample_1 = permuted_data[0:len(data1)]\n",
    "    perm_sample_2 = permuted_data[len(data1):]\n",
    "\n",
    "    return perm_sample_1, perm_sample_2"
   ]
  },
  {
   "cell_type": "code",
   "execution_count": 52,
   "metadata": {
    "collapsed": true
   },
   "outputs": [],
   "source": [
    "def draw_perm_reps(data_1, data_2, func, size=1):\n",
    "    \"\"\"Generate multiple permutation replicates.\"\"\"\n",
    "\n",
    "    # Initialize array of replicates: perm_replicates\n",
    "    perm_replicates = np.empty(size)\n",
    "\n",
    "    for i in range(size):\n",
    "        # Generate permutation sample\n",
    "        perm_sample_1, perm_sample_2 = permutation_sample(data_1,data_2)\n",
    "\n",
    "        # Compute the test statistic\n",
    "        perm_replicates[i] = func(perm_sample_1,perm_sample_2)\n",
    "\n",
    "    return perm_replicates"
   ]
  },
  {
   "cell_type": "code",
   "execution_count": 81,
   "metadata": {},
   "outputs": [
    {
     "name": "stdout",
     "output_type": "stream",
     "text": [
      "p-value = 0.0131\n"
     ]
    }
   ],
   "source": [
    "\n",
    "# Compute difference of mean impact force from experiment: empirical_diff_means\n",
    "empirical_diff_means = diff_of_means(temp_f, temp_m)\n",
    "\n",
    "# Draw 10,000 permutation replicates: perm_replicates\n",
    "perm_replicates = draw_perm_reps(temp_f, temp_m,\n",
    "                                 diff_of_means, size=10000)\n",
    "\n",
    "# Compute p-value: p\n",
    "p = np.sum(perm_replicates > empirical_diff_means) / len(perm_replicates)\n",
    "\n",
    "# Print the result\n",
    "print('p-value =', p)\n"
   ]
  },
  {
   "cell_type": "markdown",
   "metadata": {},
   "source": [
    "The P value from the bootstrap permutation test of the two samples give 0.013 as the result. It is fairly small (< 0.05) which means the sample are not likely to be the same. The difference is statistically significant if the significant level is at 0.05. The null hypothesis is invalid. The body temperature of females and males are different.\n",
    "\n",
    "Another way to examine this is to calculate the two sample t-test. "
   ]
  },
  {
   "cell_type": "code",
   "execution_count": 85,
   "metadata": {},
   "outputs": [
    {
     "name": "stdout",
     "output_type": "stream",
     "text": [
      "t statistics: 2.30322028919\n"
     ]
    }
   ],
   "source": [
    "temp_f_mean = np.mean(temp_f)\n",
    "temp_f_std = np.std(temp_f)\n",
    "n_f = len(temp_f)\n",
    "\n",
    "temp_m_mean = np.mean(temp_m)\n",
    "temp_m_std = np.std(temp_m)\n",
    "n_m = len(temp_m)\n",
    "\n",
    "t = (temp_f_mean-temp_m_mean) / np.sqrt((temp_f_std **2)/n_f + (temp_m_std **2)/n_f)\n",
    "print('t statistics:', t)"
   ]
  },
  {
   "cell_type": "markdown",
   "metadata": {},
   "source": [
    "From the t-table, t=2.3 gives the p-value of between 0.01-0.025. It agrees with the result from the bootstraping test. \n",
    "Here we can draw the conclusion: \n",
    "### The body temperature of females and males are different.\n",
    "\n"
   ]
  },
  {
   "cell_type": "markdown",
   "metadata": {},
   "source": [
    "## Correlation between heart rate and temperature"
   ]
  },
  {
   "cell_type": "code",
   "execution_count": 86,
   "metadata": {
    "collapsed": true
   },
   "outputs": [],
   "source": [
    "def draw_bs_pairs_linreg(x, y, size=1):\n",
    "    \"\"\"Perform pairs bootstrap for linear regression.\"\"\"\n",
    "\n",
    "    # Set up array of indices to sample from: inds\n",
    "    inds = np.arange(len(x))\n",
    "\n",
    "    # Initialize replicates: bs_slope_reps, bs_intercept_reps\n",
    "    bs_slope_reps = np.empty(size)\n",
    "    bs_intercept_reps = np.empty(size)\n",
    "\n",
    "    # Generate replicates\n",
    "    for i in range(size):\n",
    "        bs_inds = np.random.choice(inds, size=len(inds))\n",
    "        bs_x, bs_y = x[bs_inds], y[bs_inds]\n",
    "        bs_slope_reps[i], bs_intercept_reps[i] = np.polyfit(bs_x,bs_y,1)\n",
    "\n",
    "    return bs_slope_reps, bs_intercept_reps\n"
   ]
  },
  {
   "cell_type": "code",
   "execution_count": 87,
   "metadata": {},
   "outputs": [
    {
     "data": {
      "image/png": "[encoded data removed]",
      "text/plain": [
       "<matplotlib.figure.Figure at 0x11e95ba58>"
      ]
     },
     "metadata": {},
     "output_type": "display_data"
    }
   ],
   "source": [
    "_ = plt.plot(temp, heart_r, marker='.', linestyle='none')\n"
   ]
  },
  {
   "cell_type": "code",
   "execution_count": 88,
   "metadata": {
    "collapsed": true
   },
   "outputs": [],
   "source": [
    "def pearson_r(x, y):\n",
    "    \"\"\"Compute Pearson correlation coefficient between two arrays.\"\"\"\n",
    "    # Compute correlation matrix: corr_mat\n",
    "    corr_mat = np.corrcoef(x,y)\n",
    "\n",
    "    # Return entry [0,1]\n",
    "    return corr_mat[0,1]"
   ]
  },
  {
   "cell_type": "code",
   "execution_count": 89,
   "metadata": {},
   "outputs": [
    {
     "name": "stdout",
     "output_type": "stream",
     "text": [
      "[ 1.10976433  3.85904392]\n"
     ]
    },
    {
     "data": {
      "image/png": "[encoded data removed]",
      "text/plain": [
       "<matplotlib.figure.Figure at 0x11f5f6ac8>"
      ]
     },
     "metadata": {},
     "output_type": "display_data"
    }
   ],
   "source": [
    "# Generate replicates of slope and intercept using pairs bootstrap\n",
    "bs_slope_reps, bs_intercept_reps = draw_bs_pairs_linreg(temp, heart_r, 1000)\n",
    "\n",
    "slope, intercept = np.polyfit(temp, heart_r, 1)\n",
    "\n",
    "# Compute and print 95% CI for slope\n",
    "print(np.percentile(bs_slope_reps, [2.5,97.5]))\n",
    "\n",
    "# Plot the histogram\n",
    "_ = plt.hist(bs_slope_reps, bins=50, normed=True)\n",
    "_ = plt.xlabel('slope')\n",
    "_ = plt.ylabel('PDF')\n",
    "plt.show()"
   ]
  },
  {
   "cell_type": "code",
   "execution_count": 90,
   "metadata": {},
   "outputs": [
    {
     "data": {
      "image/png": "[encoded data removed]",
      "text/plain": [
       "<matplotlib.figure.Figure at 0x11ea80470>"
      ]
     },
     "metadata": {},
     "output_type": "display_data"
    }
   ],
   "source": [
    "# Generate array of x-values for bootstrap lines: x\n",
    "x = np.array([96,101])\n",
    "\n",
    "# Plot the bootstrap lines\n",
    "for i in range(100):\n",
    "    _ = plt.plot(x, bs_slope_reps[i]*x + bs_intercept_reps[i],\n",
    "                 linewidth=0.5, alpha=0.2, color='red')\n",
    "\n",
    "# Plot the data\n",
    "_ = plt.plot(temp, heart_r, marker='.', linestyle='none')\n",
    "\n",
    "_ = plt.plot(x, slope*x+intercept, linewidth=0.7, alpha=1, color='blue')\n",
    "\n",
    "# Label axes, set the margins, and show the plot\n",
    "_ = plt.xlabel('Temperature')\n",
    "_ = plt.ylabel('Heart Rate')\n",
    "plt.margins(0.02)\n",
    "plt.show()"
   ]
  },
  {
   "cell_type": "code",
   "execution_count": 91,
   "metadata": {},
   "outputs": [
    {
     "name": "stdout",
     "output_type": "stream",
     "text": [
      "Pearson correlation value for empirical data: 0.253656402721\n",
      "p-val = 0.00162\n"
     ]
    }
   ],
   "source": [
    "# Compute observed correlation: r_obs\n",
    "r_obs = pearson_r(temp,heart_r)\n",
    "print(\"Pearson correlation value for empirical data:\", r_obs)\n",
    "\n",
    "# Initialize permutation replicates: perm_replicates\n",
    "perm_replicates = np.empty(100000)\n",
    "\n",
    "# Draw replicates\n",
    "for i in range(100000):\n",
    "    # Permute illiteracy measurments: illiteracy_permuted\n",
    "    temp_permuted = np.random.permutation(temp)\n",
    "\n",
    "    # Compute Pearson correlation\n",
    "    perm_replicates[i] = pearson_r(temp_permuted,heart_r)\n",
    "\n",
    "# Compute p-value: p\n",
    "p = np.sum(perm_replicates>r_obs) / len(perm_replicates)\n",
    "print('p-val =', p)\n"
   ]
  },
  {
   "cell_type": "markdown",
   "metadata": {},
   "source": [
    "### The small p value strongly suggests that the correlation of temperature and heart rate is not by mere chance. \n",
    "\n"
   ]
  },
  {
   "cell_type": "code",
   "execution_count": null,
   "metadata": {
    "collapsed": true
   },
   "outputs": [],
   "source": []
  }
 ],
 "metadata": {
  "kernelspec": {
   "display_name": "Python 3",
   "language": "python",
   "name": "python3"
  },
  "language_info": {
   "codemirror_mode": {
    "name": "ipython",
    "version": 3
   },
   "file_extension": ".py",
   "mimetype": "text/x-python",
   "name": "python",
   "nbconvert_exporter": "python",
   "pygments_lexer": "ipython3",
   "version": "3.6.1"
  }
 },
 "nbformat": 4,
 "nbformat_minor": 1
}
